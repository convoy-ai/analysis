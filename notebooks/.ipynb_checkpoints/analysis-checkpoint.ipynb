{
 "cells": [
  {
   "cell_type": "code",
   "execution_count": 1,
   "id": "fb7b8b97-db60-4df3-81a5-325e358baa5d",
   "metadata": {
    "tags": []
   },
   "outputs": [],
   "source": [
    "import bagpy\n",
    "import seaborn\n",
    "import numpy as np\n",
    "import matplotlib.pyplot as plt\n",
    "import pandas as pd"
   ]
  },
  {
   "cell_type": "code",
   "execution_count": 2,
   "id": "8a7c0d24-8a99-42ba-b49b-72d9d24236a3",
   "metadata": {
    "tags": []
   },
   "outputs": [],
   "source": [
    "def point_to_index(map_origins, map_resolution, map_dimensions, point):\n",
    "    origin_x, origin_y = map_origins\n",
    "    width, height = map_dimensions\n",
    "\n",
    "    x, y = point[0], point[1]\n",
    "\n",
    "    index_x = int(round((x - origin_x) / map_resolution))\n",
    "    index_y = int(round((y - origin_y) / map_resolution))\n",
    "\n",
    "    index_x = index_x if index_x < width else width - 1\n",
    "    index_y = index_y if index_y < height else height - 1\n",
    "\n",
    "    return [index_x, index_y]\n",
    "\n",
    "def index_to_point(map_origins, map_resolution, index):\n",
    "    origin_x, origin_y = map_origins\n",
    "\n",
    "    index_x, index_y = index[0], index[1]\n",
    "\n",
    "    x = origin_x + index_x * map_resolution\n",
    "    y = origin_y + index_y * map_resolution\n",
    "\n",
    "    return np.array([x, y])"
   ]
  },
  {
   "cell_type": "code",
   "execution_count": 3,
   "id": "85f1a1cb-88e2-4c87-ba6c-a9e6b05f6de7",
   "metadata": {
    "tags": []
   },
   "outputs": [],
   "source": [
    "def count_cells(corners, map_data, map_origins, map_resolution, map_dimensions):\n",
    "    x, y = map_origins\n",
    "    corner1, corner2 = corners\n",
    "    \n",
    "    corner1_index = point_to_index(map_origins, map_resolution, map_dimensions, corner1)\n",
    "    corner2_index = point_to_index(map_origins, map_resolution, map_dimensions, corner2)\n",
    "    \n",
    "    exploration_data = map_data[corner1_index[1]:corner2_index[1] + 1, corner1_index[0]:corner2_index[0] + 1]\n",
    "    unique, counts = np.unique(exploration_data, return_counts=True)\n",
    "    d = dict(zip(unique, counts))\n",
    "    return d"
   ]
  },
  {
   "cell_type": "code",
   "execution_count": 4,
   "id": "928a884e-8f37-4fe2-806e-b8b8cfd2b263",
   "metadata": {
    "tags": []
   },
   "outputs": [],
   "source": [
    "def process_bag(bag_file, map_topic):\n",
    "    b = bagpy.bagreader(bag_file)\n",
    "    \n",
    "    clicked_point_csv = b.message_by_topic('clicked_point')\n",
    "    clicked_point_df = pd.read_csv(clicked_point_csv)\n",
    "    \n",
    "    exploration_start_time = clicked_point_df.iloc[-1]['Time']\n",
    "\n",
    "    point1 = np.array([clicked_point_df.iloc[0]['point.x'], clicked_point_df.iloc[0]['point.y']])\n",
    "    point2 = np.array([clicked_point_df.iloc[2]['point.x'], clicked_point_df.iloc[2]['point.y']])\n",
    "\n",
    "    exploration_width = abs(point1[0] - point2[0])\n",
    "    exploration_height = abs(point1[1] - point2[1])\n",
    "    exploration_area = exploration_width * exploration_height\n",
    "    \n",
    "    print(exploration_start_time, exploration_width, exploration_height, exploration_area)\n",
    "    \n",
    "    world_map_csv = b.message_by_topic(map_topic)\n",
    "    world_map_df = pd.read_csv(world_map_csv)\n",
    "    world_map_df = world_map_df.loc[(world_map_df['Time'] > exploration_start_time)]\n",
    "    \n",
    "    print(\"world_map_df:\", world_map_df.shape)\n",
    "    \n",
    "    diff_width = world_map_df.iloc[0]['info.width'] - world_map_df.iloc[-1]['info.width']\n",
    "    diff_height = world_map_df.iloc[0]['info.height'] - world_map_df.iloc[-1]['info.height']\n",
    "    \n",
    "    if (diff_width > 0 or diff_height > 0):\n",
    "        raise Exception(\"map width or height has changed: {}, {}\".format(diff_width, diff_height))\n",
    "        \n",
    "    world_map_width, world_map_height = world_map_df.iloc[0]['info.width'], world_map_df.iloc[0]['info.height']\n",
    "    world_map_data = world_map_df.filter(like=\"data_\", axis=1).to_numpy()\n",
    "    world_map_data = np.resize(world_map_data, (world_map_df.shape[0], world_map_height, world_map_width))\n",
    "    \n",
    "    print(\"world_map_data:\", world_map_data.shape)\n",
    "    \n",
    "    # assume point2 to be at lower right corner, and point1 to be at upper left\n",
    "    corners = [point2, point1]\n",
    "    world_map_origins = [world_map_df.iloc[0]['info.origin.position.x'],  world_map_df.iloc[0]['info.origin.position.y']]\n",
    "    world_map_resolution = world_map_df.iloc[0]['info.resolution']\n",
    "    world_map_dimensions = [world_map_width, world_map_height]\n",
    "    \n",
    "    initial_count = count_cells(corners, world_map_data[0], world_map_origins, world_map_resolution, world_map_dimensions)\n",
    "    print(\"initial_count:\", initial_count)\n",
    "    \n",
    "    unknown_cells = [\n",
    "        count_cells(corners, world_map_data[i], world_map_origins, world_map_resolution, world_map_dimensions)[-1]\n",
    "        for i in range(world_map_data.shape[0])\n",
    "    ]\n",
    "    \n",
    "    unknown_area = [\n",
    "        c * (world_map_resolution ** 2)\n",
    "        for c in unknown_cells\n",
    "    ]\n",
    "    \n",
    "    unknown_area_percentage = [\n",
    "        c / exploration_area * 100\n",
    "        for c in unknown_area\n",
    "    ]\n",
    "    \n",
    "    world_map_df['Time'] = world_map_df['Time'] - exploration_start_time\n",
    "    world_map_df['Unknown area percentage'] = unknown_area_percentage\n",
    "    \n",
    "    return world_map_df"
   ]
  },
  {
   "cell_type": "code",
   "execution_count": 5,
   "id": "2787da8a-7fe7-4929-9eb3-d55a6be0832d",
   "metadata": {
    "tags": []
   },
   "outputs": [
    {
     "name": "stdout",
     "output_type": "stream",
     "text": [
      "[INFO]  Data folder ../bags/session1_2023-03-13-14-13-37 already exists. Not creating.\n",
      "161.359 4.4301581382751465 4.399249076843262 19.4893691000766\n",
      "world_map_df: (134, 37266)\n",
      "world_map_data: (134, 193, 193)\n",
      "initial_count: {-1: 2931, 0: 4853, 100: 137}\n",
      "[INFO]  Data folder ../bags/session2_2023-03-17-11-03-26 already exists. Not creating.\n",
      "85.6 4.5310752391815186 4.436233043670654 20.100905699414966\n",
      "world_map_df: (55, 36881)\n",
      "world_map_data: (55, 192, 192)\n",
      "initial_count: {-1: 4497, 0: 3671, 100: 112}\n"
     ]
    }
   ],
   "source": [
    "two_robot_df = process_bag(\"../bags/session1_2023-03-13-14-13-37.bag\", \"map\")\n",
    "one_robot_df = process_bag(\"../bags/session2_2023-03-17-11-03-26.bag\", \"robot_1/map\")"
   ]
  },
  {
   "cell_type": "code",
   "execution_count": 6,
   "id": "3a816be1-d28c-4ba5-a25c-9cfb12094485",
   "metadata": {
    "tags": []
   },
   "outputs": [
    {
     "data": {
      "text/plain": [
       "<Axes: xlabel='Time', ylabel='Unknown area percentage'>"
      ]
     },
     "execution_count": 6,
     "metadata": {},
     "output_type": "execute_result"
    },
    {
     "data": {
      "image/png": "[encoded data removed]",
      "text/plain": [
       "<Figure size 640x480 with 1 Axes>"
      ]
     },
     "metadata": {},
     "output_type": "display_data"
    }
   ],
   "source": [
    "seaborn.lineplot(data=two_robot_df, x='Time', y='Unknown area percentage', label=\"two_robot\")\n",
    "seaborn.lineplot(data=one_robot_df, x='Time', y='Unknown area percentage', label=\"one_robot\")"
   ]
  }
 ],
 "metadata": {
  "kernelspec": {
   "display_name": "Python 3 (ipykernel)",
   "language": "python",
   "name": "python3"
  },
  "language_info": {
   "codemirror_mode": {
    "name": "ipython",
    "version": 3
   },
   "file_extension": ".py",
   "mimetype": "text/x-python",
   "name": "python",
   "nbconvert_exporter": "python",
   "pygments_lexer": "ipython3",
   "version": "3.8.10"
  }
 },
 "nbformat": 4,
 "nbformat_minor": 5
}

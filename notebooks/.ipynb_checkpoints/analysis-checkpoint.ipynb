{
 "cells": [
  {
   "cell_type": "code",
   "execution_count": 10,
   "id": "fb7b8b97-db60-4df3-81a5-325e358baa5d",
   "metadata": {
    "tags": []
   },
   "outputs": [],
   "source": [
    "import bagpy\n",
    "import seaborn\n",
    "import numpy as np\n",
    "import matplotlib.pyplot as plt\n",
    "import pandas as pd"
   ]
  },
  {
   "cell_type": "code",
   "execution_count": 11,
   "id": "a15c6991-e0ec-47ad-8233-b4d96fc07f29",
   "metadata": {
    "tags": []
   },
   "outputs": [
    {
     "name": "stdout",
     "output_type": "stream",
     "text": [
      "[INFO]  Data folder /home/seanchok/Documents/fyp/sandbox/src/wheeltec-experiment/bags/session1_2023-03-13-14-13-37 already exists. Not creating.\n"
     ]
    }
   ],
   "source": [
    "import bagpy\n",
    "\n",
    "\n",
    "bag_file = \"/home/seanchok/Documents/fyp/sandbox/src/wheeltec-experiment/bags/session1_2023-03-13-14-13-37.bag\"\n",
    "\n",
    "b = bagpy.bagreader(bag_file)"
   ]
  },
  {
   "cell_type": "code",
   "execution_count": 26,
   "id": "f1118f9c-d0b7-45d9-a275-aad0f47e5262",
   "metadata": {
    "tags": []
   },
   "outputs": [
    {
     "data": {
      "text/html": [
       "<div>\n",
       "<style scoped>\n",
       "    .dataframe tbody tr th:only-of-type {\n",
       "        vertical-align: middle;\n",
       "    }\n",
       "\n",
       "    .dataframe tbody tr th {\n",
       "        vertical-align: top;\n",
       "    }\n",
       "\n",
       "    .dataframe thead th {\n",
       "        text-align: right;\n",
       "    }\n",
       "</style>\n",
       "<table border=\"1\" class=\"dataframe\">\n",
       "  <thead>\n",
       "    <tr style=\"text-align: right;\">\n",
       "      <th></th>\n",
       "      <th>Time</th>\n",
       "      <th>header.seq</th>\n",
       "      <th>header.stamp.secs</th>\n",
       "      <th>header.stamp.nsecs</th>\n",
       "      <th>header.frame_id</th>\n",
       "      <th>point.x</th>\n",
       "      <th>point.y</th>\n",
       "      <th>point.z</th>\n",
       "    </tr>\n",
       "  </thead>\n",
       "  <tbody>\n",
       "    <tr>\n",
       "      <th>0</th>\n",
       "      <td>152.242</td>\n",
       "      <td>10</td>\n",
       "      <td>152</td>\n",
       "      <td>241000000</td>\n",
       "      <td>world</td>\n",
       "      <td>2.267237</td>\n",
       "      <td>2.269677</td>\n",
       "      <td>0.005716</td>\n",
       "    </tr>\n",
       "    <tr>\n",
       "      <th>1</th>\n",
       "      <td>154.162</td>\n",
       "      <td>11</td>\n",
       "      <td>154</td>\n",
       "      <td>162000000</td>\n",
       "      <td>world</td>\n",
       "      <td>2.252634</td>\n",
       "      <td>-2.196055</td>\n",
       "      <td>0.005661</td>\n",
       "    </tr>\n",
       "    <tr>\n",
       "      <th>2</th>\n",
       "      <td>156.287</td>\n",
       "      <td>12</td>\n",
       "      <td>156</td>\n",
       "      <td>287000000</td>\n",
       "      <td>world</td>\n",
       "      <td>-2.162921</td>\n",
       "      <td>-2.129572</td>\n",
       "      <td>0.003009</td>\n",
       "    </tr>\n",
       "    <tr>\n",
       "      <th>3</th>\n",
       "      <td>159.549</td>\n",
       "      <td>13</td>\n",
       "      <td>159</td>\n",
       "      <td>538000000</td>\n",
       "      <td>world</td>\n",
       "      <td>-2.193344</td>\n",
       "      <td>2.276760</td>\n",
       "      <td>0.002795</td>\n",
       "    </tr>\n",
       "    <tr>\n",
       "      <th>4</th>\n",
       "      <td>161.359</td>\n",
       "      <td>14</td>\n",
       "      <td>161</td>\n",
       "      <td>359000000</td>\n",
       "      <td>world</td>\n",
       "      <td>0.372460</td>\n",
       "      <td>1.346252</td>\n",
       "      <td>0.006276</td>\n",
       "    </tr>\n",
       "  </tbody>\n",
       "</table>\n",
       "</div>"
      ],
      "text/plain": [
       "      Time  header.seq  header.stamp.secs  header.stamp.nsecs header.frame_id  \\\n",
       "0  152.242          10                152           241000000           world   \n",
       "1  154.162          11                154           162000000           world   \n",
       "2  156.287          12                156           287000000           world   \n",
       "3  159.549          13                159           538000000           world   \n",
       "4  161.359          14                161           359000000           world   \n",
       "\n",
       "    point.x   point.y   point.z  \n",
       "0  2.267237  2.269677  0.005716  \n",
       "1  2.252634 -2.196055  0.005661  \n",
       "2 -2.162921 -2.129572  0.003009  \n",
       "3 -2.193344  2.276760  0.002795  \n",
       "4  0.372460  1.346252  0.006276  "
      ]
     },
     "execution_count": 26,
     "metadata": {},
     "output_type": "execute_result"
    }
   ],
   "source": [
    "clicked_point_csv = b.message_by_topic('clicked_point')\n",
    "clicked_point_df = pd.read_csv(clicked_point_csv)\n",
    "clicked_point_df"
   ]
  },
  {
   "cell_type": "code",
   "execution_count": 24,
   "id": "ea484e11-eec7-480b-a7a6-4e4efb6f565c",
   "metadata": {
    "tags": []
   },
   "outputs": [],
   "source": [
    "exploration_start_time = clicked_point_df.tail(1)['Time']\n",
    "\n",
    "first = np.array(clicked_point_df.iloc[0]['point.x'], clicked_point_df.iloc[0]['point.y'])\n",
    "second = np.array(clicked_point_df.iloc[2]['point.x'], clicked_point_df.iloc[0]['point.y'])\n",
    "\n",
    "corners = [\n",
    "    first,\n",
    "    np.array([first[0], second[1]]),\n",
    "    second,\n",
    "    np.array([first\n",
    "]\n",
    "\n",
    "exploration_width = abs(clicked_point_df.iloc[0]['point.x'] - clicked_point_df.iloc[2]['point.x'])\n",
    "exploration_height = abs(clicked_point_df.iloc[0]['point.y'] - clicked_point"
   ]
  },
  {
   "cell_type": "code",
   "execution_count": 23,
   "id": "44405518-2119-4c5b-845d-422184041602",
   "metadata": {
    "tags": []
   },
   "outputs": [
    {
     "data": {
      "text/plain": [
       "4    151.359\n",
       "Name: Time, dtype: float64"
      ]
     },
     "execution_count": 23,
     "metadata": {},
     "output_type": "execute_result"
    }
   ],
   "source": []
  },
  {
   "cell_type": "code",
   "execution_count": null,
   "id": "2ad1b549-8e6c-4c2e-a80c-39f6b2dc923d",
   "metadata": {},
   "outputs": [],
   "source": []
  }
 ],
 "metadata": {
  "kernelspec": {
   "display_name": "Python 3 (ipykernel)",
   "language": "python",
   "name": "python3"
  },
  "language_info": {
   "codemirror_mode": {
    "name": "ipython",
    "version": 3
   },
   "file_extension": ".py",
   "mimetype": "text/x-python",
   "name": "python",
   "nbconvert_exporter": "python",
   "pygments_lexer": "ipython3",
   "version": "3.8.10"
  }
 },
 "nbformat": 4,
 "nbformat_minor": 5
}

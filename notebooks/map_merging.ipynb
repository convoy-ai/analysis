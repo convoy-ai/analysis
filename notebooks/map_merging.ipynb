{
 "cells": [
  {
   "cell_type": "code",
   "execution_count": null,
   "id": "0cb39ab5-bcb2-4a93-bd07-0d2d17257bc5",
   "metadata": {
    "tags": []
   },
   "outputs": [],
   "source": [
    "import bagpy\n",
    "import seaborn\n",
    "import numpy as np\n",
    "import matplotlib.pyplot as plt\n",
    "import pandas as pd"
   ]
  },
  {
   "cell_type": "code",
   "execution_count": null,
   "id": "8b563309-0a2c-41d2-a4a3-1954b74e7a6a",
   "metadata": {
    "tags": []
   },
   "outputs": [],
   "source": [
    "def process_bag(bag_file, core_count):\n",
    "    b = bagpy.bagreader(bag_file)\n",
    "\n",
    "    map_csv = b.message_by_topic('map')\n",
    "    map_df = pd.read_csv(map_csv)\n",
    "    \n",
    "    map_df_time = map_df['Time'].values\n",
    "    map_df = map_df[:10].copy()\n",
    "    print(map_df.shape)\n",
    "    \n",
    "    width, height = map_df.iloc[0]['info.width'], map_df.iloc[0]['info.height']\n",
    "    print(\"width\", width, \"height\", height)\n",
    "    \n",
    "    initial_time = map_df.iloc[0]['Time']\n",
    "    map_df['Time'] = map_df['Time'] - initial_time\n",
    "    \n",
    "    duration = map_df_time[1:11] - map_df_time[:10]\n",
    "    \n",
    "    duration = np.resize(duration, (duration.shape[0], 1))\n",
    "    duration = np.insert(duration, 0, core_count, axis=1)\n",
    "    return duration"
   ]
  },
  {
   "cell_type": "code",
   "execution_count": 3,
   "id": "6a690636-16d6-44d4-b0c4-495f45554bdc",
   "metadata": {
    "tags": []
   },
   "outputs": [
    {
     "name": "stdout",
     "output_type": "stream",
     "text": [
      "[INFO]  Data folder ../bags/map_merge_turtlebot_house_1core_2023-03-23-18-31-03 already exists. Not creating.\n",
      "(10, 472434)\n",
      "width 737 height 641\n",
      "[INFO]  Data folder ../bags/map_merge_turtlebot_house_2core_2023-03-23-19-20-01 already exists. Not creating.\n",
      "(10, 472434)\n",
      "width 737 height 641\n",
      "[INFO]  Data folder ../bags/map_merge_turtlebot_house_3core_2023-03-23-19-22-26 already exists. Not creating.\n",
      "(10, 472434)\n",
      "width 737 height 641\n",
      "[INFO]  Data folder ../bags/map_merge_turtlebot_house_4core_2023-03-23-19-27-56 already exists. Not creating.\n",
      "(10, 472434)\n",
      "width 737 height 641\n",
      "[INFO]  Data folder ../bags/map_merge_turtlebot_house_5core_2023-03-23-19-29-51 already exists. Not creating.\n",
      "(10, 472434)\n",
      "width 737 height 641\n",
      "[INFO]  Data folder ../bags/map_merge_turtlebot_house_6core_2023-03-23-19-32-01 already exists. Not creating.\n",
      "(10, 472434)\n",
      "width 737 height 641\n",
      "[INFO]  Data folder ../bags/map_merge_turtlebot_house_7core_2023-03-23-19-33-13 already exists. Not creating.\n",
      "(10, 472434)\n",
      "width 737 height 641\n",
      "[INFO]  Data folder ../bags/map_merge_turtlebot_house_8core_2023-03-23-19-34-26 already exists. Not creating.\n",
      "(10, 472434)\n",
      "width 737 height 641\n"
     ]
    }
   ],
   "source": [
    "# data = np.vstack(duration)\n",
    "bag_files = [\n",
    "    (\"map_merge_turtlebot_house_1core_2023-03-23-18-31-03.bag\", 1),\n",
    "    (\"map_merge_turtlebot_house_2core_2023-03-23-19-20-01.bag\", 2),\n",
    "    (\"map_merge_turtlebot_house_3core_2023-03-23-19-22-26.bag\", 3),\n",
    "    (\"map_merge_turtlebot_house_4core_2023-03-23-19-27-56.bag\", 4),\n",
    "    (\"map_merge_turtlebot_house_5core_2023-03-23-19-29-51.bag\", 5),\n",
    "    (\"map_merge_turtlebot_house_6core_2023-03-23-19-32-01.bag\", 6),\n",
    "    (\"map_merge_turtlebot_house_7core_2023-03-23-19-33-13.bag\", 7),\n",
    "    (\"map_merge_turtlebot_house_8core_2023-03-23-19-34-26.bag\", 8)\n",
    "]\n",
    "\n",
    "durations = [process_bag(\"../bags/\" + f, c) for f, c in bag_files]"
   ]
  },
  {
   "cell_type": "code",
   "execution_count": 4,
   "id": "437e1170-f37e-4b6d-91e3-80b61cc3605f",
   "metadata": {
    "tags": []
   },
   "outputs": [
    {
     "data": {
      "text/plain": [
       "array([[ 1.        , 14.4751215 ],\n",
       "       [ 1.        , 14.55209994],\n",
       "       [ 1.        , 14.76387715],\n",
       "       [ 1.        , 14.76510453],\n",
       "       [ 1.        , 14.47574186],\n",
       "       [ 1.        , 14.39442325],\n",
       "       [ 1.        , 14.72985482],\n",
       "       [ 1.        , 14.47394896],\n",
       "       [ 1.        , 14.70668006],\n",
       "       [ 1.        , 14.58427572],\n",
       "       [ 2.        ,  7.90562534],\n",
       "       [ 2.        ,  7.92328525],\n",
       "       [ 2.        ,  7.94820786],\n",
       "       [ 2.        ,  8.21800542],\n",
       "       [ 2.        ,  8.03061581],\n",
       "       [ 2.        ,  8.05455279],\n",
       "       [ 2.        ,  8.06531119],\n",
       "       [ 2.        ,  7.98962998],\n",
       "       [ 2.        ,  8.08147335],\n",
       "       [ 2.        ,  8.04089427],\n",
       "       [ 3.        ,  5.91709733],\n",
       "       [ 3.        ,  6.01686597],\n",
       "       [ 3.        ,  6.05527878],\n",
       "       [ 3.        ,  5.85657692],\n",
       "       [ 3.        ,  5.99996281],\n",
       "       [ 3.        ,  6.00295448],\n",
       "       [ 3.        ,  5.94826341],\n",
       "       [ 3.        ,  5.96989226],\n",
       "       [ 3.        ,  5.88954568],\n",
       "       [ 3.        ,  6.04836106],\n",
       "       [ 4.        ,  4.5237608 ],\n",
       "       [ 4.        ,  4.55978441],\n",
       "       [ 4.        ,  4.55153227],\n",
       "       [ 4.        ,  4.66184592],\n",
       "       [ 4.        ,  4.64167213],\n",
       "       [ 4.        ,  4.59240103],\n",
       "       [ 4.        ,  4.57995653],\n",
       "       [ 4.        ,  4.64539409],\n",
       "       [ 4.        ,  4.71419358],\n",
       "       [ 4.        ,  4.65934062],\n",
       "       [ 5.        ,  4.06621051],\n",
       "       [ 5.        ,  3.82711601],\n",
       "       [ 5.        ,  3.87614632],\n",
       "       [ 5.        ,  4.1401732 ],\n",
       "       [ 5.        ,  3.9219203 ],\n",
       "       [ 5.        ,  3.87426686],\n",
       "       [ 5.        ,  3.74393249],\n",
       "       [ 5.        ,  3.90232062],\n",
       "       [ 5.        ,  3.90041018],\n",
       "       [ 5.        ,  3.9354589 ],\n",
       "       [ 6.        ,  3.33174753],\n",
       "       [ 6.        ,  3.28416657],\n",
       "       [ 6.        ,  3.3230505 ],\n",
       "       [ 6.        ,  3.30878282],\n",
       "       [ 6.        ,  3.44072652],\n",
       "       [ 6.        ,  3.23220968],\n",
       "       [ 6.        ,  3.40612864],\n",
       "       [ 6.        ,  3.3711164 ],\n",
       "       [ 6.        ,  3.32213783],\n",
       "       [ 6.        ,  3.77734041],\n",
       "       [ 7.        ,  3.34318709],\n",
       "       [ 7.        ,  3.61541939],\n",
       "       [ 7.        ,  2.99317741],\n",
       "       [ 7.        ,  3.3775773 ],\n",
       "       [ 7.        ,  3.05985665],\n",
       "       [ 7.        ,  2.96126747],\n",
       "       [ 7.        ,  3.08258319],\n",
       "       [ 7.        ,  4.02542973],\n",
       "       [ 7.        ,  2.97868967],\n",
       "       [ 7.        ,  2.96949506],\n",
       "       [ 8.        ,  2.89114094],\n",
       "       [ 8.        ,  3.34408665],\n",
       "       [ 8.        ,  3.08761001],\n",
       "       [ 8.        ,  3.03551459],\n",
       "       [ 8.        ,  3.29286242],\n",
       "       [ 8.        ,  2.74561381],\n",
       "       [ 8.        ,  2.82926226],\n",
       "       [ 8.        ,  3.4727459 ],\n",
       "       [ 8.        ,  3.59982157],\n",
       "       [ 8.        ,  3.01996732]])"
      ]
     },
     "execution_count": 4,
     "metadata": {},
     "output_type": "execute_result"
    }
   ],
   "source": [
    "data = durations[0]\n",
    "\n",
    "for d in durations[1:]:\n",
    "    data = np.vstack((data, d)) \n",
    "\n",
    "data"
   ]
  },
  {
   "cell_type": "code",
   "execution_count": 7,
   "id": "94a80879-6494-4d13-b6d6-4f52a37a8356",
   "metadata": {
    "tags": []
   },
   "outputs": [
    {
     "data": {
      "text/html": [
       "<div>\n",
       "<style scoped>\n",
       "    .dataframe tbody tr th:only-of-type {\n",
       "        vertical-align: middle;\n",
       "    }\n",
       "\n",
       "    .dataframe tbody tr th {\n",
       "        vertical-align: top;\n",
       "    }\n",
       "\n",
       "    .dataframe thead th {\n",
       "        text-align: right;\n",
       "    }\n",
       "</style>\n",
       "<table border=\"1\" class=\"dataframe\">\n",
       "  <thead>\n",
       "    <tr style=\"text-align: right;\">\n",
       "      <th></th>\n",
       "      <th>Number of processor cores</th>\n",
       "      <th>Map merging time (s)</th>\n",
       "    </tr>\n",
       "  </thead>\n",
       "  <tbody>\n",
       "    <tr>\n",
       "      <th>0</th>\n",
       "      <td>1.0</td>\n",
       "      <td>14.475121</td>\n",
       "    </tr>\n",
       "    <tr>\n",
       "      <th>1</th>\n",
       "      <td>1.0</td>\n",
       "      <td>14.552100</td>\n",
       "    </tr>\n",
       "    <tr>\n",
       "      <th>2</th>\n",
       "      <td>1.0</td>\n",
       "      <td>14.763877</td>\n",
       "    </tr>\n",
       "    <tr>\n",
       "      <th>3</th>\n",
       "      <td>1.0</td>\n",
       "      <td>14.765105</td>\n",
       "    </tr>\n",
       "    <tr>\n",
       "      <th>4</th>\n",
       "      <td>1.0</td>\n",
       "      <td>14.475742</td>\n",
       "    </tr>\n",
       "    <tr>\n",
       "      <th>...</th>\n",
       "      <td>...</td>\n",
       "      <td>...</td>\n",
       "    </tr>\n",
       "    <tr>\n",
       "      <th>75</th>\n",
       "      <td>8.0</td>\n",
       "      <td>2.745614</td>\n",
       "    </tr>\n",
       "    <tr>\n",
       "      <th>76</th>\n",
       "      <td>8.0</td>\n",
       "      <td>2.829262</td>\n",
       "    </tr>\n",
       "    <tr>\n",
       "      <th>77</th>\n",
       "      <td>8.0</td>\n",
       "      <td>3.472746</td>\n",
       "    </tr>\n",
       "    <tr>\n",
       "      <th>78</th>\n",
       "      <td>8.0</td>\n",
       "      <td>3.599822</td>\n",
       "    </tr>\n",
       "    <tr>\n",
       "      <th>79</th>\n",
       "      <td>8.0</td>\n",
       "      <td>3.019967</td>\n",
       "    </tr>\n",
       "  </tbody>\n",
       "</table>\n",
       "<p>80 rows × 2 columns</p>\n",
       "</div>"
      ],
      "text/plain": [
       "    Number of processor cores  Map merging time (s)\n",
       "0                         1.0             14.475121\n",
       "1                         1.0             14.552100\n",
       "2                         1.0             14.763877\n",
       "3                         1.0             14.765105\n",
       "4                         1.0             14.475742\n",
       "..                        ...                   ...\n",
       "75                        8.0              2.745614\n",
       "76                        8.0              2.829262\n",
       "77                        8.0              3.472746\n",
       "78                        8.0              3.599822\n",
       "79                        8.0              3.019967\n",
       "\n",
       "[80 rows x 2 columns]"
      ]
     },
     "execution_count": 7,
     "metadata": {},
     "output_type": "execute_result"
    }
   ],
   "source": [
    "graph_df = pd.DataFrame(data, columns=['Number of processor cores', 'Map merging time (s)'])\n",
    "graph_df"
   ]
  },
  {
   "cell_type": "code",
   "execution_count": 9,
   "id": "43e14e42-4933-4cde-a674-2db0a6d50fa9",
   "metadata": {
    "tags": []
   },
   "outputs": [
    {
     "data": {
      "text/plain": [
       "[<matplotlib.axis.YTick at 0x28069ad60>,\n",
       " <matplotlib.axis.YTick at 0x2febf6370>,\n",
       " <matplotlib.axis.YTick at 0x2cd9c11c0>,\n",
       " <matplotlib.axis.YTick at 0x2a4b08490>,\n",
       " <matplotlib.axis.YTick at 0x2a4b08f40>,\n",
       " <matplotlib.axis.YTick at 0x2a4b11a30>,\n",
       " <matplotlib.axis.YTick at 0x2a4b1a520>,\n",
       " <matplotlib.axis.YTick at 0x2a4b08040>,\n",
       " <matplotlib.axis.YTick at 0x2e62afd90>]"
      ]
     },
     "execution_count": 9,
     "metadata": {},
     "output_type": "execute_result"
    },
    {
     "data": {
      "image/png": "[encoded data removed]",
      "text/plain": [
       "<Figure size 640x480 with 1 Axes>"
      ]
     },
     "metadata": {},
     "output_type": "display_data"
    }
   ],
   "source": [
    "seaborn.set_style(\"whitegrid\")\n",
    "\n",
    "fig, ax = plt.subplots()\n",
    "\n",
    "seaborn.lineplot(ax=ax, data=graph_df, x='Number of processor cores', y='Map merging time (s)')\n",
    "\n",
    "ax.set_xlim(1, 8)\n",
    "ax.set_xticks(range(1, 9))\n",
    "ax.set_ylim(0, 16)\n",
    "ax.set_yticks(range(0, 17, 2))\n",
    "\n",
    "# average across 10 samples with 95% confidence interval"
   ]
  },
  {
   "cell_type": "code",
   "execution_count": null,
   "id": "9fa546ed-ac54-48f2-b5c1-6aaea6d4c759",
   "metadata": {},
   "outputs": [],
   "source": []
  }
 ],
 "metadata": {
  "kernelspec": {
   "display_name": "Python 3 (ipykernel)",
   "language": "python",
   "name": "python3"
  },
  "language_info": {
   "codemirror_mode": {
    "name": "ipython",
    "version": 3
   },
   "file_extension": ".py",
   "mimetype": "text/x-python",
   "name": "python",
   "nbconvert_exporter": "python",
   "pygments_lexer": "ipython3",
   "version": "3.8.10"
  }
 },
 "nbformat": 4,
 "nbformat_minor": 5
}

{
 "cells": [
  {
   "cell_type": "code",
   "execution_count": 1,
   "id": "fb7b8b97-db60-4df3-81a5-325e358baa5d",
   "metadata": {
    "tags": []
   },
   "outputs": [],
   "source": [
    "import bagpy\n",
    "import seaborn\n",
    "import numpy as np\n",
    "import matplotlib.pyplot as plt\n",
    "import pandas as pd"
   ]
  },
  {
   "cell_type": "code",
   "execution_count": 2,
   "id": "a15c6991-e0ec-47ad-8233-b4d96fc07f29",
   "metadata": {
    "tags": []
   },
   "outputs": [
    {
     "name": "stdout",
     "output_type": "stream",
     "text": [
      "[INFO]  Data folder ../bags/session1_2023-03-13-14-13-37 already exists. Not creating.\n"
     ]
    }
   ],
   "source": [
    "import bagpy\n",
    "\n",
    "\n",
    "bag_file = \"../bags/session1_2023-03-13-14-13-37.bag\"\n",
    "\n",
    "b = bagpy.bagreader(bag_file)"
   ]
  },
  {
   "cell_type": "code",
   "execution_count": 3,
   "id": "f1118f9c-d0b7-45d9-a275-aad0f47e5262",
   "metadata": {
    "tags": []
   },
   "outputs": [
    {
     "data": {
      "text/html": [
       "<div>\n",
       "<style scoped>\n",
       "    .dataframe tbody tr th:only-of-type {\n",
       "        vertical-align: middle;\n",
       "    }\n",
       "\n",
       "    .dataframe tbody tr th {\n",
       "        vertical-align: top;\n",
       "    }\n",
       "\n",
       "    .dataframe thead th {\n",
       "        text-align: right;\n",
       "    }\n",
       "</style>\n",
       "<table border=\"1\" class=\"dataframe\">\n",
       "  <thead>\n",
       "    <tr style=\"text-align: right;\">\n",
       "      <th></th>\n",
       "      <th>Time</th>\n",
       "      <th>header.seq</th>\n",
       "      <th>header.stamp.secs</th>\n",
       "      <th>header.stamp.nsecs</th>\n",
       "      <th>header.frame_id</th>\n",
       "      <th>point.x</th>\n",
       "      <th>point.y</th>\n",
       "      <th>point.z</th>\n",
       "    </tr>\n",
       "  </thead>\n",
       "  <tbody>\n",
       "    <tr>\n",
       "      <th>0</th>\n",
       "      <td>152.242</td>\n",
       "      <td>10</td>\n",
       "      <td>152</td>\n",
       "      <td>241000000</td>\n",
       "      <td>world</td>\n",
       "      <td>2.267237</td>\n",
       "      <td>2.269677</td>\n",
       "      <td>0.005716</td>\n",
       "    </tr>\n",
       "    <tr>\n",
       "      <th>1</th>\n",
       "      <td>154.162</td>\n",
       "      <td>11</td>\n",
       "      <td>154</td>\n",
       "      <td>162000000</td>\n",
       "      <td>world</td>\n",
       "      <td>2.252634</td>\n",
       "      <td>-2.196055</td>\n",
       "      <td>0.005661</td>\n",
       "    </tr>\n",
       "    <tr>\n",
       "      <th>2</th>\n",
       "      <td>156.287</td>\n",
       "      <td>12</td>\n",
       "      <td>156</td>\n",
       "      <td>287000000</td>\n",
       "      <td>world</td>\n",
       "      <td>-2.162921</td>\n",
       "      <td>-2.129572</td>\n",
       "      <td>0.003009</td>\n",
       "    </tr>\n",
       "    <tr>\n",
       "      <th>3</th>\n",
       "      <td>159.549</td>\n",
       "      <td>13</td>\n",
       "      <td>159</td>\n",
       "      <td>538000000</td>\n",
       "      <td>world</td>\n",
       "      <td>-2.193344</td>\n",
       "      <td>2.276760</td>\n",
       "      <td>0.002795</td>\n",
       "    </tr>\n",
       "    <tr>\n",
       "      <th>4</th>\n",
       "      <td>161.359</td>\n",
       "      <td>14</td>\n",
       "      <td>161</td>\n",
       "      <td>359000000</td>\n",
       "      <td>world</td>\n",
       "      <td>0.372460</td>\n",
       "      <td>1.346252</td>\n",
       "      <td>0.006276</td>\n",
       "    </tr>\n",
       "  </tbody>\n",
       "</table>\n",
       "</div>"
      ],
      "text/plain": [
       "      Time  header.seq  header.stamp.secs  header.stamp.nsecs header.frame_id  \\\n",
       "0  152.242          10                152           241000000           world   \n",
       "1  154.162          11                154           162000000           world   \n",
       "2  156.287          12                156           287000000           world   \n",
       "3  159.549          13                159           538000000           world   \n",
       "4  161.359          14                161           359000000           world   \n",
       "\n",
       "    point.x   point.y   point.z  \n",
       "0  2.267237  2.269677  0.005716  \n",
       "1  2.252634 -2.196055  0.005661  \n",
       "2 -2.162921 -2.129572  0.003009  \n",
       "3 -2.193344  2.276760  0.002795  \n",
       "4  0.372460  1.346252  0.006276  "
      ]
     },
     "execution_count": 3,
     "metadata": {},
     "output_type": "execute_result"
    }
   ],
   "source": [
    "clicked_point_csv = b.message_by_topic('clicked_point')\n",
    "clicked_point_df = pd.read_csv(clicked_point_csv)\n",
    "clicked_point_df"
   ]
  },
  {
   "cell_type": "code",
   "execution_count": 4,
   "id": "ea484e11-eec7-480b-a7a6-4e4efb6f565c",
   "metadata": {
    "tags": []
   },
   "outputs": [
    {
     "data": {
      "text/plain": [
       "(4.4301581382751465, 4.399249076843262, 19.4893691000766)"
      ]
     },
     "execution_count": 4,
     "metadata": {},
     "output_type": "execute_result"
    }
   ],
   "source": [
    "exploration_start_time = clicked_point_df.iloc[-1]['Time']\n",
    "\n",
    "point1 = np.array([clicked_point_df.iloc[0]['point.x'], clicked_point_df.iloc[0]['point.y']])\n",
    "point2 = np.array([clicked_point_df.iloc[2]['point.x'], clicked_point_df.iloc[2]['point.y']])\n",
    "\n",
    "exploration_width = abs(point1[0] - point2[0])\n",
    "exploration_height = abs(point1[1] - point2[1])\n",
    "exploration_area = exploration_width * exploration_height\n",
    "\n",
    "exploration_width, exploration_height, exploration_area"
   ]
  },
  {
   "cell_type": "code",
   "execution_count": 5,
   "id": "44405518-2119-4c5b-845d-422184041602",
   "metadata": {
    "tags": []
   },
   "outputs": [
    {
     "data": {
      "text/plain": [
       "(134, 37266)"
      ]
     },
     "execution_count": 5,
     "metadata": {},
     "output_type": "execute_result"
    }
   ],
   "source": [
    "world_map_csv = b.message_by_topic('map')\n",
    "world_map_df = pd.read_csv(world_map_csv)\n",
    "world_map_df = world_map_df.loc[(world_map_df['Time'] > exploration_start_time)]\n",
    "world_map_df.shape"
   ]
  },
  {
   "cell_type": "code",
   "execution_count": 6,
   "id": "8cbc45c9-228f-4f80-9777-2034ff9887fd",
   "metadata": {
    "tags": []
   },
   "outputs": [
    {
     "data": {
      "text/plain": [
       "(0, 0)"
      ]
     },
     "execution_count": 6,
     "metadata": {},
     "output_type": "execute_result"
    }
   ],
   "source": [
    "diff_width = world_map_df.iloc[0]['info.width'] - world_map_df.iloc[-1]['info.width']\n",
    "diff_height = world_map_df.iloc[0]['info.height'] - world_map_df.iloc[-1]['info.height']\n",
    "diff_width, diff_height"
   ]
  },
  {
   "cell_type": "code",
   "execution_count": 7,
   "id": "e817db40-96ee-498d-9f14-d3a22566c209",
   "metadata": {
    "tags": []
   },
   "outputs": [
    {
     "data": {
      "text/plain": [
       "(134, 193, 193)"
      ]
     },
     "execution_count": 7,
     "metadata": {},
     "output_type": "execute_result"
    }
   ],
   "source": [
    "world_map_width, world_map_height = world_map_df.iloc[0]['info.width'], world_map_df.iloc[0]['info.height']\n",
    "world_map_data = world_map_df.filter(like=\"data_\", axis=1).to_numpy()\n",
    "world_map_data = np.resize(world_map_data, (world_map_df.shape[0], world_map_height, world_map_width))\n",
    "world_map_data.shape"
   ]
  },
  {
   "cell_type": "code",
   "execution_count": 8,
   "id": "8a7c0d24-8a99-42ba-b49b-72d9d24236a3",
   "metadata": {
    "tags": []
   },
   "outputs": [],
   "source": [
    "def point_to_index(map_origins, map_resolution, map_dimensions, point):\n",
    "    origin_x, origin_y = map_origins\n",
    "    width, height = map_dimensions\n",
    "\n",
    "    x, y = point[0], point[1]\n",
    "\n",
    "    index_x = int(round((x - origin_x) / map_resolution))\n",
    "    index_y = int(round((y - origin_y) / map_resolution))\n",
    "\n",
    "    index_x = index_x if index_x < width else width - 1\n",
    "    index_y = index_y if index_y < height else height - 1\n",
    "\n",
    "    return [index_x, index_y]\n",
    "\n",
    "def index_to_point(map_origins, map_resolution, index):\n",
    "    origin_x, origin_y = map_origins\n",
    "\n",
    "    index_x, index_y = index[0], index[1]\n",
    "\n",
    "    x = origin_x + index_x * map_resolution\n",
    "    y = origin_y + index_y * map_resolution\n",
    "\n",
    "    return np.array([x, y])"
   ]
  },
  {
   "cell_type": "code",
   "execution_count": 9,
   "id": "85f1a1cb-88e2-4c87-ba6c-a9e6b05f6de7",
   "metadata": {
    "tags": []
   },
   "outputs": [
    {
     "data": {
      "text/plain": [
       "{-1: 2931, 0: 4853, 100: 137}"
      ]
     },
     "execution_count": 9,
     "metadata": {},
     "output_type": "execute_result"
    }
   ],
   "source": [
    "def count_cells(corners, map_data, map_origins, map_resolution, map_dimensions):\n",
    "    x, y = map_origins\n",
    "    corner1, corner2 = corners\n",
    "    \n",
    "    corner1_index = point_to_index(map_origins, map_resolution, map_dimensions, corner1)\n",
    "    corner2_index = point_to_index(map_origins, map_resolution, map_dimensions, corner2)\n",
    "    \n",
    "    exploration_data = map_data[corner1_index[1]:corner2_index[1] + 1, corner1_index[0]:corner2_index[0] + 1]\n",
    "    unique, counts = np.unique(exploration_data, return_counts=True)\n",
    "    d = dict(zip(unique, counts))\n",
    "    return d\n",
    "\n",
    "count_cells(\n",
    "    [point2, point1], \n",
    "    world_map_data[0], \n",
    "    [world_map_df.iloc[0]['info.origin.position.x'],  world_map_df.iloc[0]['info.origin.position.y']],\n",
    "    world_map_df.iloc[0]['info.resolution'],\n",
    "    [world_map_width, world_map_height]\n",
    ")"
   ]
  },
  {
   "cell_type": "code",
   "execution_count": 10,
   "id": "b32524a1-1cf1-4864-97fe-3e5859d7d9b1",
   "metadata": {
    "tags": []
   },
   "outputs": [],
   "source": [
    "corners = [point2, point1]\n",
    "world_map_origins = [world_map_df.iloc[0]['info.origin.position.x'],  world_map_df.iloc[0]['info.origin.position.y']]\n",
    "world_map_resolution = world_map_df.iloc[0]['info.resolution']\n",
    "world_map_dimensions = [world_map_width, world_map_height]"
   ]
  },
  {
   "cell_type": "code",
   "execution_count": 11,
   "id": "02ae542c-6540-4196-b1c4-97ea51e7da6a",
   "metadata": {
    "tags": []
   },
   "outputs": [],
   "source": [
    "unknown_cells = [\n",
    "    count_cells(corners, world_map_data[i], world_map_origins, world_map_resolution, world_map_dimensions)[-1]\n",
    "    for i in range(world_map_data.shape[0])\n",
    "]"
   ]
  },
  {
   "cell_type": "code",
   "execution_count": 12,
   "id": "282b3a0d-c148-49a3-8431-33864ebfb7e5",
   "metadata": {
    "tags": []
   },
   "outputs": [],
   "source": [
    "unknown_area = [\n",
    "    c * (world_map_resolution ** 2)\n",
    "    for c in unknown_cells\n",
    "]"
   ]
  },
  {
   "cell_type": "code",
   "execution_count": 13,
   "id": "3e65ee07-d702-4df4-bbc9-ee9e39163743",
   "metadata": {
    "tags": []
   },
   "outputs": [],
   "source": [
    "unknown_area_percentage = [\n",
    "    c / exploration_area * 100\n",
    "    for c in unknown_area\n",
    "]"
   ]
  },
  {
   "cell_type": "code",
   "execution_count": 14,
   "id": "ee47eb9f-2eee-4a1e-bfbe-5b13196dfb12",
   "metadata": {
    "tags": []
   },
   "outputs": [
    {
     "data": {
      "text/html": [
       "<div>\n",
       "<style scoped>\n",
       "    .dataframe tbody tr th:only-of-type {\n",
       "        vertical-align: middle;\n",
       "    }\n",
       "\n",
       "    .dataframe tbody tr th {\n",
       "        vertical-align: top;\n",
       "    }\n",
       "\n",
       "    .dataframe thead th {\n",
       "        text-align: right;\n",
       "    }\n",
       "</style>\n",
       "<table border=\"1\" class=\"dataframe\">\n",
       "  <thead>\n",
       "    <tr style=\"text-align: right;\">\n",
       "      <th></th>\n",
       "      <th>Time</th>\n",
       "      <th>header.seq</th>\n",
       "      <th>header.stamp.secs</th>\n",
       "      <th>header.stamp.nsecs</th>\n",
       "      <th>header.frame_id</th>\n",
       "      <th>info.map_load_time.secs</th>\n",
       "      <th>info.map_load_time.nsecs</th>\n",
       "      <th>info.resolution</th>\n",
       "      <th>info.width</th>\n",
       "      <th>info.height</th>\n",
       "      <th>...</th>\n",
       "      <th>data_37240</th>\n",
       "      <th>data_37241</th>\n",
       "      <th>data_37242</th>\n",
       "      <th>data_37243</th>\n",
       "      <th>data_37244</th>\n",
       "      <th>data_37245</th>\n",
       "      <th>data_37246</th>\n",
       "      <th>data_37247</th>\n",
       "      <th>data_37248</th>\n",
       "      <th>Unknown area percentage</th>\n",
       "    </tr>\n",
       "  </thead>\n",
       "  <tbody>\n",
       "    <tr>\n",
       "      <th>24</th>\n",
       "      <td>0.233</td>\n",
       "      <td>162</td>\n",
       "      <td>161</td>\n",
       "      <td>590000000</td>\n",
       "      <td>world</td>\n",
       "      <td>161</td>\n",
       "      <td>590000000</td>\n",
       "      <td>0.05</td>\n",
       "      <td>193</td>\n",
       "      <td>193</td>\n",
       "      <td>...</td>\n",
       "      <td>-1</td>\n",
       "      <td>-1</td>\n",
       "      <td>-1</td>\n",
       "      <td>-1</td>\n",
       "      <td>-1</td>\n",
       "      <td>-1</td>\n",
       "      <td>-1</td>\n",
       "      <td>-1</td>\n",
       "      <td>-1</td>\n",
       "      <td>37.597421</td>\n",
       "    </tr>\n",
       "    <tr>\n",
       "      <th>25</th>\n",
       "      <td>1.124</td>\n",
       "      <td>163</td>\n",
       "      <td>162</td>\n",
       "      <td>481000000</td>\n",
       "      <td>world</td>\n",
       "      <td>162</td>\n",
       "      <td>481000000</td>\n",
       "      <td>0.05</td>\n",
       "      <td>193</td>\n",
       "      <td>193</td>\n",
       "      <td>...</td>\n",
       "      <td>-1</td>\n",
       "      <td>-1</td>\n",
       "      <td>-1</td>\n",
       "      <td>-1</td>\n",
       "      <td>-1</td>\n",
       "      <td>-1</td>\n",
       "      <td>-1</td>\n",
       "      <td>-1</td>\n",
       "      <td>-1</td>\n",
       "      <td>37.597421</td>\n",
       "    </tr>\n",
       "    <tr>\n",
       "      <th>26</th>\n",
       "      <td>2.214</td>\n",
       "      <td>164</td>\n",
       "      <td>163</td>\n",
       "      <td>572000000</td>\n",
       "      <td>world</td>\n",
       "      <td>163</td>\n",
       "      <td>572000000</td>\n",
       "      <td>0.05</td>\n",
       "      <td>193</td>\n",
       "      <td>193</td>\n",
       "      <td>...</td>\n",
       "      <td>-1</td>\n",
       "      <td>-1</td>\n",
       "      <td>-1</td>\n",
       "      <td>-1</td>\n",
       "      <td>-1</td>\n",
       "      <td>-1</td>\n",
       "      <td>-1</td>\n",
       "      <td>-1</td>\n",
       "      <td>-1</td>\n",
       "      <td>37.597421</td>\n",
       "    </tr>\n",
       "    <tr>\n",
       "      <th>27</th>\n",
       "      <td>3.161</td>\n",
       "      <td>165</td>\n",
       "      <td>164</td>\n",
       "      <td>518000000</td>\n",
       "      <td>world</td>\n",
       "      <td>164</td>\n",
       "      <td>518000000</td>\n",
       "      <td>0.05</td>\n",
       "      <td>193</td>\n",
       "      <td>193</td>\n",
       "      <td>...</td>\n",
       "      <td>-1</td>\n",
       "      <td>-1</td>\n",
       "      <td>-1</td>\n",
       "      <td>-1</td>\n",
       "      <td>-1</td>\n",
       "      <td>-1</td>\n",
       "      <td>-1</td>\n",
       "      <td>-1</td>\n",
       "      <td>-1</td>\n",
       "      <td>37.597421</td>\n",
       "    </tr>\n",
       "    <tr>\n",
       "      <th>28</th>\n",
       "      <td>4.266</td>\n",
       "      <td>166</td>\n",
       "      <td>165</td>\n",
       "      <td>623000000</td>\n",
       "      <td>world</td>\n",
       "      <td>165</td>\n",
       "      <td>623000000</td>\n",
       "      <td>0.05</td>\n",
       "      <td>193</td>\n",
       "      <td>193</td>\n",
       "      <td>...</td>\n",
       "      <td>-1</td>\n",
       "      <td>-1</td>\n",
       "      <td>-1</td>\n",
       "      <td>-1</td>\n",
       "      <td>-1</td>\n",
       "      <td>-1</td>\n",
       "      <td>-1</td>\n",
       "      <td>-1</td>\n",
       "      <td>-1</td>\n",
       "      <td>37.597421</td>\n",
       "    </tr>\n",
       "    <tr>\n",
       "      <th>...</th>\n",
       "      <td>...</td>\n",
       "      <td>...</td>\n",
       "      <td>...</td>\n",
       "      <td>...</td>\n",
       "      <td>...</td>\n",
       "      <td>...</td>\n",
       "      <td>...</td>\n",
       "      <td>...</td>\n",
       "      <td>...</td>\n",
       "      <td>...</td>\n",
       "      <td>...</td>\n",
       "      <td>...</td>\n",
       "      <td>...</td>\n",
       "      <td>...</td>\n",
       "      <td>...</td>\n",
       "      <td>...</td>\n",
       "      <td>...</td>\n",
       "      <td>...</td>\n",
       "      <td>...</td>\n",
       "      <td>...</td>\n",
       "      <td>...</td>\n",
       "    </tr>\n",
       "    <tr>\n",
       "      <th>153</th>\n",
       "      <td>129.198</td>\n",
       "      <td>291</td>\n",
       "      <td>290</td>\n",
       "      <td>555000000</td>\n",
       "      <td>world</td>\n",
       "      <td>290</td>\n",
       "      <td>555000000</td>\n",
       "      <td>0.05</td>\n",
       "      <td>193</td>\n",
       "      <td>193</td>\n",
       "      <td>...</td>\n",
       "      <td>-1</td>\n",
       "      <td>-1</td>\n",
       "      <td>-1</td>\n",
       "      <td>-1</td>\n",
       "      <td>-1</td>\n",
       "      <td>-1</td>\n",
       "      <td>-1</td>\n",
       "      <td>-1</td>\n",
       "      <td>-1</td>\n",
       "      <td>1.641921</td>\n",
       "    </tr>\n",
       "    <tr>\n",
       "      <th>154</th>\n",
       "      <td>130.214</td>\n",
       "      <td>292</td>\n",
       "      <td>291</td>\n",
       "      <td>571000000</td>\n",
       "      <td>world</td>\n",
       "      <td>291</td>\n",
       "      <td>571000000</td>\n",
       "      <td>0.05</td>\n",
       "      <td>193</td>\n",
       "      <td>193</td>\n",
       "      <td>...</td>\n",
       "      <td>-1</td>\n",
       "      <td>-1</td>\n",
       "      <td>-1</td>\n",
       "      <td>-1</td>\n",
       "      <td>-1</td>\n",
       "      <td>-1</td>\n",
       "      <td>-1</td>\n",
       "      <td>-1</td>\n",
       "      <td>-1</td>\n",
       "      <td>1.641921</td>\n",
       "    </tr>\n",
       "    <tr>\n",
       "      <th>155</th>\n",
       "      <td>131.209</td>\n",
       "      <td>293</td>\n",
       "      <td>292</td>\n",
       "      <td>567000000</td>\n",
       "      <td>world</td>\n",
       "      <td>292</td>\n",
       "      <td>567000000</td>\n",
       "      <td>0.05</td>\n",
       "      <td>193</td>\n",
       "      <td>193</td>\n",
       "      <td>...</td>\n",
       "      <td>-1</td>\n",
       "      <td>-1</td>\n",
       "      <td>-1</td>\n",
       "      <td>-1</td>\n",
       "      <td>-1</td>\n",
       "      <td>-1</td>\n",
       "      <td>-1</td>\n",
       "      <td>-1</td>\n",
       "      <td>-1</td>\n",
       "      <td>1.641921</td>\n",
       "    </tr>\n",
       "    <tr>\n",
       "      <th>156</th>\n",
       "      <td>132.199</td>\n",
       "      <td>294</td>\n",
       "      <td>293</td>\n",
       "      <td>555000000</td>\n",
       "      <td>world</td>\n",
       "      <td>293</td>\n",
       "      <td>555000000</td>\n",
       "      <td>0.05</td>\n",
       "      <td>193</td>\n",
       "      <td>193</td>\n",
       "      <td>...</td>\n",
       "      <td>-1</td>\n",
       "      <td>-1</td>\n",
       "      <td>-1</td>\n",
       "      <td>-1</td>\n",
       "      <td>-1</td>\n",
       "      <td>-1</td>\n",
       "      <td>-1</td>\n",
       "      <td>-1</td>\n",
       "      <td>-1</td>\n",
       "      <td>1.641921</td>\n",
       "    </tr>\n",
       "    <tr>\n",
       "      <th>157</th>\n",
       "      <td>133.196</td>\n",
       "      <td>295</td>\n",
       "      <td>294</td>\n",
       "      <td>554000000</td>\n",
       "      <td>world</td>\n",
       "      <td>294</td>\n",
       "      <td>554000000</td>\n",
       "      <td>0.05</td>\n",
       "      <td>193</td>\n",
       "      <td>193</td>\n",
       "      <td>...</td>\n",
       "      <td>-1</td>\n",
       "      <td>-1</td>\n",
       "      <td>-1</td>\n",
       "      <td>-1</td>\n",
       "      <td>-1</td>\n",
       "      <td>-1</td>\n",
       "      <td>-1</td>\n",
       "      <td>-1</td>\n",
       "      <td>-1</td>\n",
       "      <td>1.641921</td>\n",
       "    </tr>\n",
       "  </tbody>\n",
       "</table>\n",
       "<p>134 rows × 37267 columns</p>\n",
       "</div>"
      ],
      "text/plain": [
       "        Time  header.seq  header.stamp.secs  header.stamp.nsecs  \\\n",
       "24     0.233         162                161           590000000   \n",
       "25     1.124         163                162           481000000   \n",
       "26     2.214         164                163           572000000   \n",
       "27     3.161         165                164           518000000   \n",
       "28     4.266         166                165           623000000   \n",
       "..       ...         ...                ...                 ...   \n",
       "153  129.198         291                290           555000000   \n",
       "154  130.214         292                291           571000000   \n",
       "155  131.209         293                292           567000000   \n",
       "156  132.199         294                293           555000000   \n",
       "157  133.196         295                294           554000000   \n",
       "\n",
       "    header.frame_id  info.map_load_time.secs  info.map_load_time.nsecs  \\\n",
       "24            world                      161                 590000000   \n",
       "25            world                      162                 481000000   \n",
       "26            world                      163                 572000000   \n",
       "27            world                      164                 518000000   \n",
       "28            world                      165                 623000000   \n",
       "..              ...                      ...                       ...   \n",
       "153           world                      290                 555000000   \n",
       "154           world                      291                 571000000   \n",
       "155           world                      292                 567000000   \n",
       "156           world                      293                 555000000   \n",
       "157           world                      294                 554000000   \n",
       "\n",
       "     info.resolution  info.width  info.height  ...  data_37240  data_37241  \\\n",
       "24              0.05         193          193  ...          -1          -1   \n",
       "25              0.05         193          193  ...          -1          -1   \n",
       "26              0.05         193          193  ...          -1          -1   \n",
       "27              0.05         193          193  ...          -1          -1   \n",
       "28              0.05         193          193  ...          -1          -1   \n",
       "..               ...         ...          ...  ...         ...         ...   \n",
       "153             0.05         193          193  ...          -1          -1   \n",
       "154             0.05         193          193  ...          -1          -1   \n",
       "155             0.05         193          193  ...          -1          -1   \n",
       "156             0.05         193          193  ...          -1          -1   \n",
       "157             0.05         193          193  ...          -1          -1   \n",
       "\n",
       "     data_37242  data_37243  data_37244  data_37245  data_37246  data_37247  \\\n",
       "24           -1          -1          -1          -1          -1          -1   \n",
       "25           -1          -1          -1          -1          -1          -1   \n",
       "26           -1          -1          -1          -1          -1          -1   \n",
       "27           -1          -1          -1          -1          -1          -1   \n",
       "28           -1          -1          -1          -1          -1          -1   \n",
       "..          ...         ...         ...         ...         ...         ...   \n",
       "153          -1          -1          -1          -1          -1          -1   \n",
       "154          -1          -1          -1          -1          -1          -1   \n",
       "155          -1          -1          -1          -1          -1          -1   \n",
       "156          -1          -1          -1          -1          -1          -1   \n",
       "157          -1          -1          -1          -1          -1          -1   \n",
       "\n",
       "     data_37248  Unknown area percentage  \n",
       "24           -1                37.597421  \n",
       "25           -1                37.597421  \n",
       "26           -1                37.597421  \n",
       "27           -1                37.597421  \n",
       "28           -1                37.597421  \n",
       "..          ...                      ...  \n",
       "153          -1                 1.641921  \n",
       "154          -1                 1.641921  \n",
       "155          -1                 1.641921  \n",
       "156          -1                 1.641921  \n",
       "157          -1                 1.641921  \n",
       "\n",
       "[134 rows x 37267 columns]"
      ]
     },
     "execution_count": 14,
     "metadata": {},
     "output_type": "execute_result"
    }
   ],
   "source": [
    "world_map_df['Time'] = world_map_df['Time'] - exploration_start_time\n",
    "world_map_df['Unknown area percentage'] = unknown_area_percentage\n",
    "world_map_df"
   ]
  },
  {
   "cell_type": "code",
   "execution_count": 15,
   "id": "3a816be1-d28c-4ba5-a25c-9cfb12094485",
   "metadata": {
    "tags": []
   },
   "outputs": [
    {
     "data": {
      "text/plain": [
       "<Axes: xlabel='Time', ylabel='Unknown area percentage'>"
      ]
     },
     "execution_count": 15,
     "metadata": {},
     "output_type": "execute_result"
    },
    {
     "data": {
      "image/png": "[encoded data removed]",
      "text/plain": [
       "<Figure size 640x480 with 1 Axes>"
      ]
     },
     "metadata": {},
     "output_type": "display_data"
    }
   ],
   "source": [
    "seaborn.lineplot(data=world_map_df, x='Time', y='Unknown area percentage')"
   ]
  },
  {
   "cell_type": "code",
   "execution_count": null,
   "id": "fe7e4c0e-9cd8-48e2-9450-5228d5b30729",
   "metadata": {},
   "outputs": [],
   "source": []
  }
 ],
 "metadata": {
  "kernelspec": {
   "display_name": "Python 3 (ipykernel)",
   "language": "python",
   "name": "python3"
  },
  "language_info": {
   "codemirror_mode": {
    "name": "ipython",
    "version": 3
   },
   "file_extension": ".py",
   "mimetype": "text/x-python",
   "name": "python",
   "nbconvert_exporter": "python",
   "pygments_lexer": "ipython3",
   "version": "3.8.10"
  }
 },
 "nbformat": 4,
 "nbformat_minor": 5
}
